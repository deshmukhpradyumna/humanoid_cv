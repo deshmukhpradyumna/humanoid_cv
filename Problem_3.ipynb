import cv2
import random

def extract_clips(video_file, duration, interval):
    cap = cv2.VideoCapture(video_file)
    fps = cap.get(cv2.CAP_PROP_FPS)
    tf = int(cap.get(cv2.CAP_PROP_FRAME_COUNT))
    fw = int(cap.get(cv2.CAP_PROP_FRAME_WIDTH))
    fh = int(cap.get(cv2.CAP_PROP_FRAME_HEIGHT))
    
    clips = []
    start_frame = 0
    while start_frame < tf:
        cap.set(cv2.CAP_PROP_POS_FRAMES, start_frame)
        frames = []
        for _ in range(int(duration * fps)):
            ret, frame = cap.read()
            if not ret:
                break
            frames.append(frame)
        if frames:
            clips.append(frames)
        start_frame += int((duration + interval) * fps)
    
    cap.release()
    return clips, fps, fw, fh

def create_reel(clips, reel_duration, fps):
    reel_f = []
    total_f = int(reel_duration * fps)
    
    while len(reel_f) < total_f:
        sc = random.choice(clips)
        remaining_f = total_f - len(reel_f)
        reel_f.extend(sc[:remaining_f])
    
    return reel_f[:total_f]

def write_video(frames, output_file, fps, frame_width, frame_height):
    fourcc = cv2.VideoWriter_fourcc(*'mp4v')
    out = cv2.VideoWriter(output_file, fourcc, fps, (frame_width, frame_height))
    for frame in frames:
        out.write(frame)
    out.release()

video_file = 'mardhad.mp4'
reel_time = 40  
clip_time = 8  
interval = 3  

clips, fps, frame_width, frame_height = extract_clips(video_file, clip_time, interval)

reel_frames = create_reel(clips, reel_time, fps)

write_video(reel_frames, 'reel_output3.mp4', fps, frame_width, frame_height)
